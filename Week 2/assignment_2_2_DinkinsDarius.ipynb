{
 "cells": [
  {
   "cell_type": "code",
   "execution_count": 1,
   "id": "dfef458a-5ffa-4072-a758-951e48c259ba",
   "metadata": {},
   "outputs": [
    {
     "name": "stdout",
     "output_type": "stream",
     "text": [
      "Hello World\n",
      "4\n",
      "6\n",
      "28\n",
      "3.0\n",
      "firstlast\n",
      "['sauce', 23, 'Bellevue', 52.5]\n",
      "['sauce', 23, 'Bellevue', 52.5, 'football']\n"
     ]
    }
   ],
   "source": [
    "print('Hello World')\n",
    "\n",
    "print(2+2)\n",
    "\n",
    "print(9-3)\n",
    "\n",
    "print(4*7)\n",
    "\n",
    "print(9/3)\n",
    "\n",
    "print('first' + 'last')\n",
    "\n",
    "a = ['sauce',23, 'Bellevue',52.5]\n",
    "print(a)\n",
    "\n",
    "a.append('football')\n",
    "print(a)\n",
    "\n",
    "names = ('Arnold', 'Quaid', 'Matrix', 'Kimble')"
   ]
  },
  {
   "cell_type": "code",
   "execution_count": null,
   "id": "b3ed5487-330c-432d-bc9d-0b1adc79b53e",
   "metadata": {},
   "outputs": [],
   "source": []
  }
 ],
 "metadata": {
  "kernelspec": {
   "display_name": "Python 3 (ipykernel)",
   "language": "python",
   "name": "python3"
  },
  "language_info": {
   "codemirror_mode": {
    "name": "ipython",
    "version": 3
   },
   "file_extension": ".py",
   "mimetype": "text/x-python",
   "name": "python",
   "nbconvert_exporter": "python",
   "pygments_lexer": "ipython3",
   "version": "3.9.7"
  }
 },
 "nbformat": 4,
 "nbformat_minor": 5
}
